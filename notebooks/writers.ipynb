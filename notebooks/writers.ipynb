{
 "cells": [
  {
   "cell_type": "markdown",
   "id": "a47bb56f",
   "metadata": {},
   "source": [
    "# writers\n",
    "\n",
    "The Midgard **writers** module can be used for writing files. For example following file formats are available via Midgard:\n",
    "\n",
    "- Bernese station information files (*.ABB, *.CLU, *.CRD, *.STA, *.VEL)\n",
    "- GipsyX site information file\n",
    "- GAMIT station information file\n",
    "- ...\n",
    "\n",
    "All available writers can be shown with `names` method:"
   ]
  },
  {
   "cell_type": "code",
   "execution_count": null,
   "id": "b009a3ff",
   "metadata": {},
   "outputs": [],
   "source": [
    "# Import writers package\n",
    "from midgard import writers\n",
    "\n",
    "# List all available writers\n",
    "writers.names()"
   ]
  },
  {
   "cell_type": "markdown",
   "id": "45cf5cba",
   "metadata": {},
   "source": [
    "## Use of station information file writers \n",
    "\n",
    "Following station information file writers exists:\n",
    "\n",
    "| Writer name        | Description |\n",
    "|:------------------ | :-----------|\n",
    "| bernese_abb        | Bernese station abbreviation table in *.ABB format |\n",
    "| bernese_clu        | Bernese station list file in *.CLU format |\n",
    "| bernese_crd        | Bernese station coordinate file in *.CRD format | \n",
    "| bernese_sta        | Bernese station information file in *.STA format |\n",
    "| bernese_vel        | Bernese station velocity file in *.VEL format |\n",
    "| gamit_apr_eq       | GAMIT station coordinates files in *.apr and *.eq format |\n",
    "| gamit_station_info | GAMIT station information file |\n",
    "| gipsyx_site_info   | GipsyX station information file |\n",
    "\n",
    "As a first step the input data has to be generated for the writers. That means station information has to be collected from one or more of the following sources:\n",
    "\n",
    "| Source             | Parser name | Description |\n",
    "|:------------------ | :-----------| :-----------|\n",
    "| SINEX              | sinex_site  | Station information given in SINEX format files, which can inlude information about antenna, receiver, eccentricity and station coordinates (like https://files.igs.org/pub/station/general/igs.snx) | \n",
    "| SSC                | ssc_site    |Station coordinate and velocity is given in SSC format files (like https://itrf.ign.fr/docs/solutions/itrf2014/ITRF2014_GNSS.SSC.txt) |\n",
    "| M3G                | m3g         | M3G application programming interface (API) from https://gnss-metadata.eu/site/api-docs. The M3G is a metadata management and distribution system for multiple GNSS networks (https://gnss-metadata.eu), which is accessable via M3G application programming interface (API).  |\n",
    "\n",
    "Midgard **parsers** can be used to read SSC/SINEX files and the **site_info** module to access the M3G API. In the following a SSC and a SINEX file are read as **source_data**. These **source_data** are applied to initialize a Midgard **site_info** object. Midgard **site_info** class provides a data structure to save relevant station information. "
   ]
  },
  {
   "cell_type": "code",
   "execution_count": null,
   "id": "75a4cdd0",
   "metadata": {},
   "outputs": [],
   "source": [
    "# Standard library import\n",
    "from datetime import datetime\n",
    "from pprint import pprint # Used to print variables more pretty\n",
    "\n",
    "# Import Midgard parsers\n",
    "from midgard import parsers\n",
    "\n",
    "# Import SiteCoord class\n",
    "from midgard.site_info.site_info import SiteInfo\n",
    "\n",
    "# Read station information (antenna, receiver, eccentricity) from SINEX file\n",
    "p_snx = parsers.parse_file(\n",
    "            parser_name=\"sinex_site\", \n",
    "            file_path=\"../tests/parsers/example_files/sinex_site\",\n",
    ")\n",
    "\n",
    "# Read station coordinates/velocities from SSC file\n",
    "p_ssc = parsers.parse_file(\n",
    "            parser_name=\"ssc_site\", \n",
    "            file_path=\"../tests/parsers/example_files/ssc_site\",\n",
    ")\n",
    "\n",
    "# Get station dictionary of SiteInfo instance for SINEX source\n",
    "site_info = SiteInfo.get(\n",
    "            source=\"snx\", # File type specifier: snx = SINEX; ssc = SSC\n",
    "            source_data=p_snx.as_dict(),\n",
    "            stations=p_snx.as_dict().keys(), # List with station identifiers\n",
    "            source_path=p_snx.file_path,\n",
    ")\n",
    "\n",
    "# Get station dictionary of SiteInfo instance for SSC source\n",
    "site_info_ssc = SiteInfo.get(\n",
    "            source=\"ssc\", # File type specifier: snx = SINEX; ssc = SSC\n",
    "            source_data=p_ssc.as_dict(),\n",
    "            stations=p_ssc.as_dict().keys(), # List with station identifiers\n",
    "            source_path=p_ssc.file_path,\n",
    ")\n",
    "\n",
    "# Show site_info dictionary\n",
    "pprint(site_info)"
   ]
  },
  {
   "cell_type": "markdown",
   "id": "c2df63c8",
   "metadata": {},
   "source": [
    "The SINEX files like **igs.snx** or **euref.snx** include only approximated station coordinates. Therefore we read in addition the SSC file with precise coordinates and velocities. The SINEX **site_info** dictionary will now be updated with the **site_coord** objects of the SSC **site_info_ssc** dictionary."
   ]
  },
  {
   "cell_type": "code",
   "execution_count": null,
   "id": "6e585647",
   "metadata": {},
   "outputs": [],
   "source": [
    "# Update SINEX source with station coordinates/velocities from SSC source\n",
    "for sta in site_info.keys():\n",
    "    site_info[sta][\"site_coord\"] = site_info_ssc[sta][\"site_coord\"]\n",
    "    \n",
    "# Show site_info dictionary\n",
    "pprint(site_info)"
   ]
  },
  {
   "cell_type": "markdown",
   "id": "80a98ba7",
   "metadata": {},
   "source": [
    "The last step is to use the **site_info** dictionary for writing the station information in different formats with the writers like **bernese_crd**, **bernese_sta**, **gamit_station_info** or **gipsyx_site_info**."
   ]
  },
  {
   "cell_type": "code",
   "execution_count": null,
   "id": "65db1063",
   "metadata": {},
   "outputs": [],
   "source": [
    "# Import writer\n",
    "from midgard.writers.bernese_crd import bernese_crd\n",
    "from midgard.writers.bernese_sta import bernese_sta\n",
    "from midgard.writers.bernese_vel import bernese_vel\n",
    "from midgard.writers.gipsyx_site_info import gipsyx_site_info\n",
    "\n",
    "# Use bernese_crd writer\n",
    "bernese_crd(\n",
    "    file_path=\"./examples/writers/BERNESE.CRD\",\n",
    "    site_info=site_info,\n",
    "    datum=\"IGb14\", # Reference system of station coordinates\n",
    "    epoch=datetime(2010,1,1), # Reference epoch of station coordinates\n",
    "    agency=\"NMA\",\n",
    ")\n",
    "\n",
    "# Display output file\n",
    "from IPython.display import Code\n",
    "Code(filename='./examples/writers/BERNESE.CRD', language='python')"
   ]
  },
  {
   "cell_type": "code",
   "execution_count": null,
   "id": "12ef8d51",
   "metadata": {},
   "outputs": [],
   "source": [
    "# Use bernese_vel writer\n",
    "bernese_vel(\n",
    "    file_path=\"./examples/writers/BERNESE.VEL\",\n",
    "    site_info=site_info,\n",
    "    datum=\"IGb14\", # Reference system of station velocities\n",
    "    agency=\"NMA\",\n",
    ")\n",
    "\n",
    "# Display output file\n",
    "from IPython.display import Code\n",
    "Code(filename='./examples/writers/BERNESE.VEL', language='python')"
   ]
  },
  {
   "cell_type": "code",
   "execution_count": null,
   "id": "8fb0bb4a",
   "metadata": {},
   "outputs": [],
   "source": [
    "# Use bernese_sta writer\n",
    "bernese_sta(\n",
    "    file_path=\"./examples/writers/BERNESE.STA\",\n",
    "    site_info=site_info,\n",
    "    agency=\"NMA\", # Agency which uses this file for processing\n",
    ")\n",
    "\n",
    "# Display output file\n",
    "from IPython.display import Code\n",
    "Code(filename='./examples/writers/BERNESE.STA', language='python')"
   ]
  },
  {
   "cell_type": "code",
   "execution_count": null,
   "id": "78417003",
   "metadata": {},
   "outputs": [],
   "source": [
    "# Use gipsyx_site_info writer\n",
    "gipsyx_site_info(\n",
    "    file_path=\"./examples/writers/gipsyx_site_info\",\n",
    "    site_info=site_info,\n",
    ")\n",
    "\n",
    "# Display output file\n",
    "from IPython.display import Code\n",
    "Code(filename='./examples/writers/gipsyx_site_info', language='python')"
   ]
  },
  {
   "cell_type": "markdown",
   "id": "4b4af831",
   "metadata": {},
   "source": [
    "## Use of SINEX timeseries writer sinex_tms\n",
    "\n",
    "An example is shown, how to use the SINEX timeseries writer **sinex_tms** module. As a first step the input data has to be generated. In this example several daily station coordinate solutions in SINEX format are read to generate the needed Midgard dataset as input for the **sinex_tms** writer."
   ]
  },
  {
   "cell_type": "code",
   "execution_count": null,
   "id": "ef1f4f5e",
   "metadata": {
    "scrolled": true
   },
   "outputs": [],
   "source": [
    "# Standard library import\n",
    "from datetime import datetime, timedelta\n",
    "\n",
    "# Import Midgard parsers\n",
    "import midgard\n",
    "from midgard.data.dataset import Dataset\n",
    "from midgard import parsers\n",
    "\n",
    "# Initialize Midgard dataset\n",
    "dset = Dataset()\n",
    "\n",
    "# Define time period\n",
    "date_from = datetime(2023, 6, 9)\n",
    "date_to = datetime(2023, 6, 11)\n",
    "\n",
    "# Loop over time period\n",
    "date = date_from\n",
    "while date <= date_to:\n",
    "    \n",
    "    # Read SINEX file with station coordinate solutions\n",
    "    yyddd = date.strftime(\"%y%j\")\n",
    "    p = parsers.parse_file(\n",
    "                parser_name=\"sinex_site\", \n",
    "                file_path=f\"./examples/parsers/F1_{yyddd}0.SNX\",\n",
    "    )\n",
    "    \n",
    "    if date_from == date:\n",
    "        # Initialize first dataset entry\n",
    "        dset = p.as_dataset()\n",
    "    else:\n",
    "        # Add following daily SINEX file solution \n",
    "        dset.extend(p.as_dataset())\n",
    "    \n",
    "    # Increase date counter\n",
    "    date += timedelta(days=1)"
   ]
  },
  {
   "cell_type": "markdown",
   "id": "e9c91403",
   "metadata": {},
   "source": [
    "The next step is to use the generated dataset **dset** for writing SINEX timeseries files for each station."
   ]
  },
  {
   "cell_type": "code",
   "execution_count": null,
   "id": "a600236b",
   "metadata": {},
   "outputs": [],
   "source": [
    "# Import writer\n",
    "from midgard.writers.sinex_tms import sinex_tms\n",
    "\n",
    "# Loop over stations\n",
    "for sta in dset.unique(\"station\"):\n",
    "\n",
    "    # Use sinex_tms writer\n",
    "    sinex_tms(\n",
    "        dset=dset,\n",
    "        station=sta,\n",
    "        file_path=f\"./examples/writers/{sta}.tms\",\n",
    "        contact=\"dummy@kartverket.no\",\n",
    "        data_agency=\"NMA\",\n",
    "        file_agency=\"NMA\",\n",
    "        input_=\"Daily GNSS Solutions processed with Bernese 5.2\",\n",
    "        organization=\"Norwegian Mapping Authority\",\n",
    "        software=f\"Midgard {midgard.__version__}\",\n",
    "        version=\"001\",\n",
    "    )\n",
    "\n",
    "# Display output file\n",
    "from IPython.display import Code\n",
    "Code(filename='./examples/writers/brux.tms', language='python')"
   ]
  },
  {
   "cell_type": "markdown",
   "id": "76a62ec5-ebda-43f7-a04a-3f7473c45cd8",
   "metadata": {},
   "source": [
    "In the next steps it is shown how to add topocentric coordinates to SINEX timeseries format. Hereby the first station coordinate entry of each station is used as reference coordinate."
   ]
  },
  {
   "cell_type": "code",
   "execution_count": null,
   "id": "3c889ef4-a221-4c03-b16d-6fffa56c43b5",
   "metadata": {},
   "outputs": [],
   "source": [
    "# Standard library import\n",
    "from datetime import datetime\n",
    "\n",
    "# Third party import\n",
    "import numpy as np\n",
    "\n",
    "# Import of Midgard Position class\n",
    "from midgard.data.position import Position\n",
    "\n",
    "# Import Midgard function for computation of standard deviation of topocentric coordinates\n",
    "from midgard.math.transformation import sigma_trs2enu\n",
    "\n",
    "# Initialize temporary data structures\n",
    "dsite_pos_tmp = np.zeros((dset.num_obs, 3))\n",
    "ref_pos_tmp = np.zeros((dset.num_obs, 3))\n",
    "\n",
    "# Determine difference between station coordinates and reference coordinate for each station\n",
    "for sta in dset.unique(\"station\"):\n",
    "    idx = dset.filter(station=sta)\n",
    "\n",
    "    # Use first entry of station coordinates as reference coordinate\n",
    "    ref_pos = Position(dset.site_pos[idx][0], system=\"trs\")\n",
    "    ref_pos_tmp[idx] = ref_pos.val  \n",
    "\n",
    "    # Generate PositionDelta object by differencing to Position objects\n",
    "    dsite_pos_tmp[idx] = dset.site_pos[idx] - ref_pos\n",
    "\n",
    "if \"dsite_pos\" in dset.fields:\n",
    "    del dset.dsite_pos\n",
    "\n",
    "# Add relative position\n",
    "dset.add_position_delta(\n",
    "    name=\"dsite_pos\",\n",
    "    val=dsite_pos_tmp,\n",
    "    system=\"trs\",\n",
    "    ref_pos=Position(ref_pos_tmp, system=\"trs\"),\n",
    ")\n",
    "\n",
    "dset.meta[\"reference_epoch\"] = datetime(2023,6,9)\n",
    "dset.meta[\"reference_frame\"] = \"IGb14\"\n",
    "\n",
    "# Add sigma of topocentric coordinates\n",
    "sigma_east, sigma_north, sigma_up = sigma_trs2enu(\n",
    "                                        ref_pos.trs2enu,\n",
    "                                        dset.site_pos_x_sigma,\n",
    "                                        dset.site_pos_y_sigma,\n",
    "                                        dset.site_pos_z_sigma,     \n",
    ")\n",
    "dset.add_float(\"site_pos_east_sigma\", val=sigma_east, unit=\"meter\")\n",
    "dset.add_float(\"site_pos_north_sigma\", val=sigma_north, unit=\"meter\")\n",
    "dset.add_float(\"site_pos_up_sigma\", val=sigma_up, unit=\"meter\")"
   ]
  },
  {
   "cell_type": "markdown",
   "id": "42019034-63ae-4b65-8d1d-7c5462b7a591",
   "metadata": {},
   "source": [
    "Use the dataset with added topocentric coordinates and its standard deviation to generate a new SINEX timeseries file."
   ]
  },
  {
   "cell_type": "code",
   "execution_count": null,
   "id": "b6f8cd89-49b5-4b12-92d1-523961a3e973",
   "metadata": {},
   "outputs": [],
   "source": [
    "# Import writer\n",
    "from midgard.writers.sinex_tms import sinex_tms\n",
    "\n",
    "# Loop over stations\n",
    "for sta in dset.unique(\"station\"):\n",
    "\n",
    "    # Use sinex_tms writer\n",
    "    sinex_tms(\n",
    "        dset=dset,\n",
    "        station=sta,\n",
    "        file_path=f\"./examples/writers/{sta}.tms\",\n",
    "        contact=\"dummy@kartverket.no\",\n",
    "        data_agency=\"NMA\",\n",
    "        file_agency=\"NMA\",\n",
    "        input_=\"Daily GNSS Solutions processed with Bernese 5.4\",\n",
    "        organization=\"Norwegian Mapping Authority\",\n",
    "        software=f\"Midgard {midgard.__version__}\",\n",
    "        version=\"001\",\n",
    "    )\n",
    "\n",
    "# Display output file\n",
    "from IPython.display import Code\n",
    "Code(filename='./examples/writers/zimm.tms', language='python')"
   ]
  },
  {
   "cell_type": "code",
   "execution_count": null,
   "id": "3e50b629-b020-4c3c-9c6d-7143250634bd",
   "metadata": {},
   "outputs": [],
   "source": []
  }
 ],
 "metadata": {
  "kernelspec": {
   "display_name": "Python 3 (ipykernel)",
   "language": "python",
   "name": "python3"
  },
  "language_info": {
   "codemirror_mode": {
    "name": "ipython",
    "version": 3
   },
   "file_extension": ".py",
   "mimetype": "text/x-python",
   "name": "python",
   "nbconvert_exporter": "python",
   "pygments_lexer": "ipython3",
   "version": "3.12.3"
  }
 },
 "nbformat": 4,
 "nbformat_minor": 5
}
