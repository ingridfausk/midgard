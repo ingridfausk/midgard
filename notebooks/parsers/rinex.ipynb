{
 "cells": [
  {
   "cell_type": "markdown",
   "metadata": {},
   "source": [
    "# RINEX parsers\n",
    "\n",
    "Receiver Independent Exchange Format (RINEX) was originally developed by the Astronomical Institute of the University of Berne for the easy exchange of the Global Positioning System (GPS) data. Later on the IGS Receiver INdependent EXchange (RINEX) Working Group (RINEX-WG) was established and coorperates with Radio Technical Commission for Maritime services-Special Committee 104 (RTCM-SC104). The joint IGS and RTCM-SC104 group updates and maintains the RINEX format to meet the needs of the IGS and the GNSS Industry ([https://igs.org/wg/rinex/#documents-formats](https://igs.org/wg/rinex/#documents-formats)). \n",
    "\n",
    "Midgard provides following parsers for reading certain RINEX formats:\n",
    "\n",
    "| Parser name        | Description                        |\n",
    "| :------------------| :--------------------------------- |\n",
    "| rinex212_nav       | Reads GNSS data from files in the RINEX navigation file format **2.12**. GLONASS and SBAS navigation messages are not handled. |\n",
    "| rinex2_nav         | Reads GNSS data from files in the RINEX navigation file format **2.11**. GLONASS and SBAS navigation messages are not handled. | \n",
    "| rinex2_obs         | Reads GNSS data from files in the RINEX observation file format **2.11**. |\n",
    "| rinex3_nav         | Reads GNSS data from files in the RINEX navigation file format **3.03**. GLONASS and SBAS navigation messages are not handled. |\n",
    "| rinex3_obs         | Reads GNSS data from files in the RINEX observation file format **3.03**. |"
   ]
  },
  {
   "cell_type": "markdown",
   "metadata": {},
   "source": [
    "## Use of rinex3_nav parser\n",
    "\n",
    "An example is shown, how to use the **rinex3_nav** parser:"
   ]
  },
  {
   "cell_type": "code",
   "execution_count": null,
   "metadata": {},
   "outputs": [],
   "source": [
    "# Do not show Python warnings\n",
    "import warnings\n",
    "warnings.filterwarnings(\"ignore\")\n",
    "\n",
    "# Prints the nicely formatted dictionary\n",
    "from pprint import pprint\n",
    "\n",
    "# Third party import\n",
    "import numpy as np\n",
    "\n",
    "# Import parsers package\n",
    "from midgard import parsers\n",
    "\n",
    "# Read file by generating an instance of a Parser class\n",
    "p = parsers.parse_file(parser_name=\"rinex3_nav\", file_path=\"../examples/parsers/KIR000SWE_R_20240900000_01D_MN.rnx\")\n",
    "\n",
    "# Generate dataset based on read file data\n",
    "dset = p.as_dataset()"
   ]
  },
  {
   "cell_type": "markdown",
   "metadata": {},
   "source": [
    "**dset** is a Midgard dataset with following data fields, which represents a column in the dataset:\n",
    "\n",
    "   | Field               | System| Unit            | Description                                                     |\n",
    "   | :------------------ | :---- | :-------------- | :-------------------------------------------------------------- |\n",
    "   | age_of_clock_corr   | C     |                 | **BeiDou:** Age of data, clock (AODC) is the extrapolated interval of clock correction parameters. It indicates the time  difference between the reference epoch of clock correction parameters and the last observation epoch for extrapolating clock correction parameters. Meaning of AODC:  <ul><li>< 25  Age of the satellite clock correction parameters in hours</li><li>25  Age of the satellite clock correction parameters is two days</li></ul> See section 5.2.4.9 in BDS-SIS-ICD-2.0. |\n",
    "   | bgd_e1_e5a          |  E    | s               | Galileo: group delay E1-E5a BGD (see section 5.1.5 in  Galileo-OS-SIS-ICD-1.2) |\n",
    "   | bgd_e1_e5b          |  E    | s               | Galileo: group delay E1-E5b BGD (see section 5.1.5 in Galileo-OS-SIS-ICD-1.2) |\n",
    "   | dvs_e1              |  E    |                 | Data validity status for Galileo E1 signal                              |\n",
    "   | dvs_e5a             |  E    |                 | Data validity status for Galileo E5a signal                             |\n",
    "   | dvs_e5b             |  E    |                 | Data validity status for Galileo E5b signal                             |\n",
    "   | cic, cis            | CEGIJ | rad             | Correction coefficients of inclination                          |\n",
    "   | crc, crs            | CEGIJ | m               | Correction coefficients of orbit radius                         |\n",
    "   | cuc, cus            | CEGIJ | rad             | Correction coefficients of argument of perigee                  |\n",
    "   | codes_l2            |   G J |                 | <ul><li>**GPS:** Codes on L2 channel. Indication which codes are used  on L2 channel (P code, C/A code). See section 20.3.3.3.1.2 in IS-GPS-200H).  </li><li>**QZSS:** Codes on L2 channel. Indication if either C/A- or P-code is used on L2 channel (0: spare, 1: P-code, 2: L1C/A code). See section 4.1.2.7 in IS-QZSS-PNT-001.</li></ul> |\n",
    "   | data_source         |  E    |                 | **Galileo:** Data source information about the broadcast ephemeris block, that means if the ephemeris block is based on FNAV or INAV navigation message. |\n",
    "   | delta_n             | CEGIJ | rad/s           | Mean motion difference from computed value                      |\n",
    "   | e                   | CEGIJ |                 | Eccentricity of the orbit                                       |\n",
    "   | fit_interval        |   G J |                 | <ul><li>**GPS:** Indicates the curve-fit interval used by the GPS Control Segment in determining the ephemeris parameters, which is given in HOURS (see section 6.11 in RINEX 3.03). </li><li>**QZSS:** Fit interval is given as flag (see section 4.1.2.7 in IS-QZSS-PNT-001): <ul><li>0 - 2 hours</li><li>1 - more than 2 hours</li><li>blank - not known</li></ul></li></ul>  |\n",
    "   | gnss_week           | CEGIJ |                 | Week number of ephemeris reference epoch, whichs depends on the used GNSS. The week number is converted to GPS week.  See RINEX 3.03 format description. |\n",
    "   | i0                  | CEGIJ | rad             | Inclination angle at the reference time                         |\n",
    "   | idot                | CEGIJ | rad/s           | Rate of change of inclination angle                             |\n",
    "   | iodc                |   G J |                 | <ul><li>**GPS:** IODC (Clock issue of data indicates changes (set equal to IODE))</li><li>**QZSS:** IODC</li></ul> |\n",
    "   | iode                | CEGIJ |                 | Ephemeris issue of data indicates changes to the broadcast ephemeris: <ul><li>**GPS:** Ephemeris issue of data (IODE), which is set equal to IODC</li><li>**Galileo:** Issue of Data of the NAV batch (IODnav)</li><li>**QZSS:** Ephemeris issue of data (IODE)</li><li>**BeiDou:** Age of Data Ephemeris (AODE)</li><li>**IRNSS:** Issue of Data, Ephemeris and Clock (IODEC)</li></ul> |\n",
    "   | lp2_flag            |   G J |                 | L2 P-code data flag: <ul><li>**GPS:** When bit 1 of word four is a \"1\", it shall that the NAV data stream was commanded OFF on the P-code of the L2 channel (see section 20.3.3.3.1.6 in IS-GPS-200H).</li><li>**QZSS:** L2P data flag set to 1 since QZSS does not track L2P. See section 4.1.2.7 in IS-QZSS-PNT-001.</li></ul> |\n",
    "   | m0                  | CEGIJ | rad             | Mean anomaly at reference epoch                                 |\n",
    "   | nav_type            |  EG   |                 | Navigation message type (Note: At the moment only implemented for GPS and Galileo.) |\n",
    "   | omega               | CEGIJ | rad             | Argument of perigee                                             |\n",
    "   | Omega               | CEGIJ | rad             | Longitude of ascending node of orbit plane at weekly epoch      |\n",
    "   | Omega_dot           | CEGIJ | rad/s           | Rate of change of right ascension of the ascending node         |\n",
    "   | sat_clock_bias      | CEGIJ | s               | Satellite clock offset from GPS time                            |\n",
    "   | sat_clock_drift     | CEGIJ | s/s             | Satellite clock frequency offset                                |\n",
    "   | sat_clock_drift_rate| CEGIJ | s/s^2           | Satellite clock frequency drift                                 |\n",
    "   | satellite           | CEGIJ |                 | Satellite PRN number                                            |\n",
    "   | shs_e1              |  E    |                 | Signal health status for E1 signal                              |\n",
    "   | shs_e5a             |  E    |                 | Signal health status for E5a signal                             |\n",
    "   | shs_e5b             |  E    |                 | Signal health status for E5b signal                             |\n",
    "   | sqrt_a              | CEGIJ | sqrt(m)         | Square root of semi-major axis of the orbit                     |\n",
    "   | sv_accuracy         | CEGIJ | m               | Satellite accuracy index, which is different for GNSS:  <ul><li>**GPS:** SV accuracy in meters (see section 20.3.3.3.1.3 in IS-GPS-200H)</li><li>**Galileo:** SISA signal in space accuracy in meters (see section 5.1.11 in Galileo-OS-SIS-ICD-1.2) </li><li> **BeiDou:** Is that the user range accuracy index (URAI) in meters (see section 5.2.4.5 in BDS-SIS-ICD-2.0) </li><li> **QZSS:** Is that the user range accuracy index? (see table 4.1.2-4 in IS-QZSS-PNT-001)</li><li>**IRNSS:** User range accuracy in meters (see section 6.2.1.4  IRNSS-ICD-SPS-1.0)</li></ul> |\n",
    "   | sv_health           | CEGIJ |                 | The definition of the satellite vehicle health flags depends on GNSS:  <ul><li>**GPS:** see section 20.3.3.3.1.4 in IS-GPS-200H</li><li>**Galileo:** see section 5.1.9.3 in Galileo-OS-SIS-ICD-1.2 </li><li>**BeiDou:** see section 5.2.4.6 in BDS-SIS-ICD-2.0 </li><li>**QZSS:** see section 4.1.2.3 in IS-QZSS-PNT-001 </li><li>**IRNSS:** see section 6.2.1.6 in IRNSS-ICD-SPS-1.0</li></ul>  |\n",
    "   | system              | CEGIJ |                 | GNSS identifier                                                 |\n",
    "   | tgd                 |   GIJ | s               | Total group delay (TGD) for GPS, IRNSS and QZSS: <ul><li> **GPS:** TGD (`L_1 - L_2` delay correction term. See section 20.3.3.3.3.2 in IS-GPS-200H. </li></ul>  |\n",
    "   | tgd_b1_b3           | C     | s               | **BeiDou:** total group delay (TGD1) for frequencies B1/B3      |\n",
    "   | tgd_b2_b3           | C     | s               | **BeiDou:** total group delay (TGD2) for frequencies B2/B3      |\n",
    "   | time                |       |                 | Time of clock (Toc), which is related to GPS time scale. That means all the different GNSS time systems (GPS: GPS time, Galileo: GAL time, QZSS: QZS time, BeiDou: BDT time, IRNSS: IRN time) are converted to GPS time scale. |\n",
    "   | toe                 | CEGIJ | s               | Time of ephemeris, that means fractional part of current GPS week of ephemeris reference epoch. The week is dependent on GNSS (GPS: GPS week, Galileo: GAL week, QZSS: GPS week, BeiDou: BDT week, IRNSS: IRN week), therefore the different GNSS weeks are converted to GPS week. |\n",
    "   | transmission_time   | CEGIJ | s               | Transmission time of message converted to GPS time scale.       |"
   ]
  },
  {
   "cell_type": "code",
   "execution_count": null,
   "metadata": {},
   "outputs": [],
   "source": [
    "# Show dataset fields\n",
    "dset.fields"
   ]
  },
  {
   "cell_type": "markdown",
   "metadata": {},
   "source": [
    "The Dataset includes also `meta` data:\n",
    "\n",
    "   |  Entry              | Type  |  Description                                                       |\n",
    "   | :------------------ | :---- | :----------------------------------------------------------------- | \n",
    "   | comment             |  list |  List with comment lines                                           |\n",
    "   | file_created        |  str  |  Date of file creation                                             |\n",
    "   | file_type           |  str  |  File type                                                         |\n",
    "   | iono_para           |  dict |  Dictionary with GNSS dependent ionospheric correction parameters  |\n",
    "   | leap_seconds        |  dict |  Dictionary with information related to leap seconds               |\n",
    "   | program             |  str  |  Name of program creating current file                             |\n",
    "   | run_by              |  str  |  Name of agency creating current file                              |\n",
    "   | sat_sys             |  str  |  Satellite system                                                  |\n",
    "   | time_sys_corr       |  dict |  Dictionary with GNSS time system corrections                      |\n",
    "   | version             |  str  |  Format version                                                    |"
   ]
  },
  {
   "cell_type": "code",
   "execution_count": null,
   "metadata": {
    "scrolled": true
   },
   "outputs": [],
   "source": [
    "# Show dataset meta dictionary\n",
    "pprint(dset.meta)"
   ]
  },
  {
   "cell_type": "markdown",
   "metadata": {},
   "source": [
    "It is necessary to filter the dataset after defined fields for example for getting information for a certain satellite or navigation record. In the following an example is shown:"
   ]
  },
  {
   "cell_type": "code",
   "execution_count": null,
   "metadata": {},
   "outputs": [],
   "source": [
    "# Loop over all satellites\n",
    "for sat in dset.unique(\"satellite\"):\n",
    "    idx = dset.filter(satellite=sat)  # Indices for which satellite 'sat' is available\n",
    "\n",
    "    # Check health status of satellite 'sat'\n",
    "    if np.all(dset.sv_health[idx]):\n",
    "        print(f\"Satellite {sat} is unhealthy.\")\n",
    "\n",
    "# Loop over navigation record epochs\n",
    "for time in sorted(dset.unique(\"time\")):\n",
    "    idx = dset.filter(time=time)\n",
    "    print(f\"Available satellites in epoch {time.isot}: {','.join(dset.satellite[idx])}\")"
   ]
  },
  {
   "cell_type": "markdown",
   "metadata": {},
   "source": [
    "In the following it is shown how to plot the GNSS signal-in-space status for each satellite and navigation record:"
   ]
  },
  {
   "cell_type": "code",
   "execution_count": null,
   "metadata": {},
   "outputs": [],
   "source": [
    "# Import MatPlotExt class - a wrapper around matplotlib\n",
    "from midgard.plot.matplotext import MatPlotExt\n",
    "\n",
    "# Get instance of MatPlotExt class\n",
    "plt = MatPlotExt()\n",
    "\n",
    "colors = [\"green\", \"red\"]\n",
    "labels = [\"healthy\", \"unhealthy\"]\n",
    "\n",
    "# Generate time and satellite data for given SIS status\n",
    "x_arrays = []\n",
    "y_arrays = []\n",
    "for status in [\"healthy\", \"unhealthy\"]:\n",
    "\n",
    "    # Generate x- and y-axis data\n",
    "    time = []\n",
    "    satellite = []\n",
    "\n",
    "    for sat in sorted(dset.unique(\"satellite\"), reverse=True):   \n",
    "        idx = dset.filter(satellite=sat)\n",
    "\n",
    "        if status == \"healthy\":  \n",
    "            idx_status = dset.sv_health[idx] == 0\n",
    "        elif status == \"unhealthy\": \n",
    "            idx_status = dset.sv_health[idx] > 0\n",
    "        else:\n",
    "            continue\n",
    "            \n",
    "        time.extend(dset.time.gps.datetime[idx][idx_status])\n",
    "        satellite.extend(dset.satellite[idx][idx_status])\n",
    "\n",
    "    x_arrays.append(time)\n",
    "    y_arrays.append(satellite)\n",
    "\n",
    "# Generate plot\n",
    "plt = MatPlotExt()\n",
    "plt.plot(\n",
    "    x_arrays=x_arrays,\n",
    "    y_arrays=y_arrays,\n",
    "    xlabel=\"Time [GPS]\",\n",
    "    ylabel=\"Satellite\",\n",
    "    y_unit=\"\",\n",
    "    labels=labels,\n",
    "    colors=colors,\n",
    "    options={\n",
    "        \"figsize\": (7, 11),\n",
    "        \"marker\": \".\",\n",
    "        \"marksersize\": 2,\n",
    "        \"legend_ncol\": 4,\n",
    "        \"legend_location\": \"bottom\",\n",
    "        \"legend_bbox_bottom\": (0.5, -0.1),\n",
    "        \"plot_to\": \"console\",\n",
    "        \"plot_type\": \"scatter\",\n",
    "        \"tick_labelsize\": (\"y\", 6),  \n",
    "        \"title\": \"GNSS signal-in-space status\",\n",
    "    },\n",
    ")"
   ]
  },
  {
   "cell_type": "markdown",
   "metadata": {},
   "source": [
    "## Use of rinex3_obs parser\n",
    "\n",
    "An example is shown, how to use the **rinex3_obs** parser:"
   ]
  },
  {
   "cell_type": "code",
   "execution_count": null,
   "metadata": {},
   "outputs": [],
   "source": [
    "# Prints the nicely formatted dictionary\n",
    "from pprint import pprint\n",
    "\n",
    "# Third party import\n",
    "import numpy as np\n",
    "\n",
    "# Import parsers package\n",
    "from midgard import parsers\n",
    "\n",
    "# Read file by generating an instance of a Parser class\n",
    "p = parsers.parse_file(parser_name=\"rinex3_obs\", file_path=\"../examples/parsers/KIRU00SWE_R_20240900000_01D_30S_MO.rnx\")\n",
    "\n",
    "# Generate dataset based on read file data\n",
    "dset = p.as_dataset()"
   ]
  },
  {
   "cell_type": "markdown",
   "metadata": {},
   "source": [
    "**dset** is a Midgard dataset with following data fields, which represents a column in the dataset:\n",
    "\n",
    "   |  Field               | Type              | Description                                                           |\n",
    "   | :------------------- | :---------------- | :-------------------------------------------------------------------- |\n",
    "   | {observation type}   | numpy.ndarray     | GNSS observation type data (e.g. C1C, C2W, L1C, L2W, ...) given for loss of lock indicator (lli), pseudo-range and carrier phase observation (obs) and signal-to-noise-ratio (snr) |\n",
    "   | epoch_flag           | numpy.ndarray     | Epoch flag                                                            |\n",
    "   | rcv_clk_offset       | numpy.ndarray     | Receiver clock offset in seconds given for each epoch                 |\n",
    "   | satellite            | numpy.ndarray     | Satellite PRN number together with GNSS identifier (e.g. G07)         |\n",
    "   | satnum               | numpy.ndarray     | Satellite PRN number (e.g. 07)                                        |\n",
    "   | site_pos             | PositionTable     | PositionTable object with given station coordinates (read from RINEX header) |\n",
    "   | station              | numpy.ndarray     | Station name list                                                     |\n",
    "   | system               | numpy.ndarray     | GNSS identifier                                                       |\n",
    "   | time                 | TimeTable         | Observation time given as TimeTable object                            |"
   ]
  },
  {
   "cell_type": "code",
   "execution_count": null,
   "metadata": {},
   "outputs": [],
   "source": [
    "# Show dataset fields\n",
    "dset.fields"
   ]
  },
  {
   "cell_type": "markdown",
   "metadata": {},
   "source": [
    "The Dataset includes also `meta` data:\n",
    "\n",
    "   |  Entry              | Type  | Description                                                                        |\n",
    "   | :------------------ | :---- | :--------------------------------------------------------------------------------- |\n",
    "   | agency              | str   | Name of agency from observer                                                       |\n",
    "   | antenna_east        | float | East component of vector between marker and antenna reference point in meters      |\n",
    "   | antenna_height      | float | Height component of vector between marker and antenna reference point in meters    |\n",
    "   | antenna_north       | float | North component of vector between marker and antenna reference point in meters     |\n",
    "   | antenna_number      | str   | Antenna serial number                                                              |\n",
    "   | antenna_type        | str   | Antenna type                                                                       |\n",
    "   | ant_vehicle_x       | float | X-coordinate in body-fixed coord. system of antenna reference point on vehicle     |\n",
    "   | ant_vehicle_y       | float | Y-coordinate in body-fixed coord. system of antenna reference point on vehicle     |\n",
    "   | ant_vehicle_z       | float | Z-coordinate in body-fixed coord. system of antenna reference point on vehicle     |\n",
    "   | comment             | list  | List with RINEX header comment lines                                               |\n",
    "   | dcbs_applied        | dict  | Satellite system dependent information about applying DCBs                         |\n",
    "   | file_created        | str   | Date and time of file creation                                                     |\n",
    "   | file_type           | str   | File type (e.g. 'O' for observation data)                                          |\n",
    "   | glonass_bias        | dict  | GLONASS phase bias correction in meters given for code observation type (C1C, C1P, C2C and/or C2P)  |\n",
    "   | glonass_slot        | dict  | GLONASS frequency numbers given for GLONASS slot                                   |\n",
    "   | interval            | float | Observation interval in seconds                                                    |\n",
    "   | leap_seconds        | dict  | Dictionary with information related to leap seconds                                |\n",
    "   | marker_name         | str   | Name of antenna marker                                                             |\n",
    "   | marker_number       | str   | Number of antenna marker                                                           |\n",
    "   | num_satellites      | int   | Number of satellites, for which observations are stored in the RINEX file          |\n",
    "   | observer            | str   | Name of observer                                                                   |\n",
    "   | obstypes            | dict  | Observation types given for each GNSS                                              |\n",
    "   | pcvs_applied        | dict  | Satellite system dependent information about applying PCVs                         |\n",
    "   | phase_shift         | dict  | Phase shift correction given for a satellite system dependent observation type     |\n",
    "   | program             | str   | Name of program creating current file                                              |\n",
    "   | rcv_clk_offset_flag | str   | Flag (1=yes, 0=no) indicating if realtime-derived receiver clock offset is applied for epoch, code, and phase |\n",
    "   | receiver_number     | str   | Receiver serial number                                                             |\n",
    "   | receiver_type       | str   | Receiver type                                                                      |\n",
    "   | receiver_version    | str   | Receiver firmware version                                                          |\n",
    "   | run_by              | str   | Name of agency creating current file                                               |\n",
    "   | sat_sys             | str   | Satellite system given in observation file (G, R, E, J, C, I, S or M)              |\n",
    "   | signal_strength_unit| str   | Unit of the carrier to noise ratio observables                                     |\n",
    "   | time_first_obs      | str   | Time of first observation record                                                   |\n",
    "   | time_last_obs       | str   | Time of last observation record                                                    |\n",
    "   | time_sys            | str   | Time system used for GNSS observations (GPS, GLO, GAL, QZS, BDT or IRN)            |\n",
    "   | version             | str   | Format version                                                                     |"
   ]
  },
  {
   "cell_type": "code",
   "execution_count": null,
   "metadata": {},
   "outputs": [],
   "source": [
    "# Show dataset meta dictionary\n",
    "pprint(dset.meta)"
   ]
  },
  {
   "cell_type": "markdown",
   "metadata": {},
   "source": [
    "It is necessary to filter the dataset after defined fields for example for getting information for a certain satellite or observation epoch. In the following an example is shown:"
   ]
  },
  {
   "cell_type": "code",
   "execution_count": null,
   "metadata": {},
   "outputs": [],
   "source": [
    "# Loop over all satellites\n",
    "obstype = \"L1C\" if \"L1C\" in dset.obs.fields else \"L1\"\n",
    "print(f\"Number of {obstype} observations for each satellite: \")\n",
    "for sat in sorted(dset.unique(\"satellite\")):\n",
    "    idx = dset.filter(satellite=sat)  # Indices for which satellite 'sat' is available\n",
    "    print(f\" {sat}: {sum(dset.obs[obstype][idx] > 0)}\")\n",
    "\n",
    "# Loop over observation epochs\n",
    "for time in sorted(dset.unique(\"time\")):\n",
    "    idx = dset.filter(time=time)\n",
    "    print(f\"Available satellites in epoch {time.isot}: {','.join(dset.satellite[idx])}\")"
   ]
  },
  {
   "cell_type": "markdown",
   "metadata": {},
   "source": [
    "It is necessary to filter the dataset after defined fields for example for getting information for a certain satellite or navigation record. In the following an example is shown:"
   ]
  },
  {
   "cell_type": "markdown",
   "metadata": {},
   "source": [
    "In the following it is shown how to plot the GNSS satellite availability:"
   ]
  },
  {
   "cell_type": "code",
   "execution_count": null,
   "metadata": {},
   "outputs": [],
   "source": [
    "# Midgard imports\n",
    "from midgard.collections import enums\n",
    "\n",
    "# Generate x- and y-axis data per system\n",
    "x_arrays = []\n",
    "y_arrays = []\n",
    "labels = []\n",
    "\n",
    "for sys in dset.unique(\"system\"):\n",
    "    idx = dset.filter(system=sys)\n",
    "    x_arrays.append(dset.time.datetime[idx])\n",
    "    y_arrays.append(dset.satellite[idx])\n",
    "    labels.append(enums.gnss_id_to_name[sys].value)\n",
    "\n",
    "# Plot scatter plot\n",
    "num_sat = len(dset.unique(\"satellite\"))\n",
    "plt = MatPlotExt()\n",
    "plt.plot(\n",
    "    x_arrays=x_arrays,\n",
    "    y_arrays=y_arrays,\n",
    "    xlabel=\"Time [GPS]\",\n",
    "    ylabel=\"Satellite\",\n",
    "    y_unit=\"\",\n",
    "    options={\n",
    "        \"colormap\": \"tab20\",\n",
    "        \"figsize\": (0.1 * num_sat, 0.2 * num_sat),\n",
    "        \"fontsize\": 8,\n",
    "        \"plot_to\": \"console\",\n",
    "        \"plot_type\": \"scatter\",\n",
    "        \"title\": \"Satellite availability\",\n",
    "    },\n",
    ")"
   ]
  },
  {
   "cell_type": "code",
   "execution_count": null,
   "metadata": {},
   "outputs": [],
   "source": []
  }
 ],
 "metadata": {
  "kernelspec": {
   "display_name": "Python 3 (ipykernel)",
   "language": "python",
   "name": "python3"
  },
  "language_info": {
   "codemirror_mode": {
    "name": "ipython",
    "version": 3
   },
   "file_extension": ".py",
   "mimetype": "text/x-python",
   "name": "python",
   "nbconvert_exporter": "python",
   "pygments_lexer": "ipython3",
   "version": "3.12.3"
  }
 },
 "nbformat": 4,
 "nbformat_minor": 4
}
