{
 "cells": [
  {
   "cell_type": "markdown",
   "id": "87d38592-5107-4ffd-8054-c727f4dc128c",
   "metadata": {},
   "source": [
    "# Unit module\n",
    "\n",
    "The Midgard **math.unit** module provides functionality for unit conversion by using the **[pint](https://pint.readthedocs.io/en/stable/)** package. More information about **pint** can be found under [https://pint.readthedocs.io/en/stable/](https://pint.readthedocs.io/en/stable/). In the following it is shown how to use the Unit class."
   ]
  },
  {
   "cell_type": "code",
   "execution_count": null,
   "id": "eae4533a-5548-495f-901e-32d84b6f4dcf",
   "metadata": {},
   "outputs": [],
   "source": [
    "# Import Unit class\n",
    "from midgard.math.unit import Unit\n",
    "\n",
    "# Different ways to apply Unit methods\n",
    "radian = 1.047198\n",
    "degree = radian * Unit.radian2degree\n",
    "degree = radian * Unit.rad2deg       # Aliases can be used instead of full unit name \n",
    "degree = radian * Unit(\"rad\", \"deg\")\n",
    "print(f\"{radian:.6f} rad = {degree:.3f} deg\")\n",
    "\n",
    "# Get symbol for a unit, e.g. for second is the symbol [s]\n",
    "print(f\"Symbol for unit 'seconds' is [{Unit.symbol(\"seconds\")}]\")\n",
    "print(f\"Symbol for unit 'seconds' is [{Unit(\"seconds\").units:~P}] (alternative)\")"
   ]
  },
  {
   "cell_type": "markdown",
   "id": "c5f63abf-5798-4e06-9dc0-dad10d8a2120",
   "metadata": {},
   "source": [
    "**pint** handles already a quite comprehensive list of units. See [https://github.com/hgrecco/pint/blob/master/pint/default_en.txt](https://github.com/hgrecco/pint/blob/master/pint/default_en.txt). Additional units can be defined in the **midgard.math.unit.txt** file based on **pint** definition under [https://pint.readthedocs.io/en/0.19/defining.html](https://pint.readthedocs.io/en/0.19/defining.html). For example a unit definition in unit.txt file could looks like:"
   ]
  },
  {
   "cell_type": "raw",
   "id": "ddf5d14f-77d8-4a7b-a790-e23af857ba2f",
   "metadata": {},
   "source": [
    "# Following format is used:\n",
    "#    <canonical name> = <definition> = <symbol> = <alias>\n",
    "hour = 60 * minute = h = hr  \n",
    "minute = 60 * second = min"
   ]
  }
 ],
 "metadata": {
  "kernelspec": {
   "display_name": "Python 3 (ipykernel)",
   "language": "python",
   "name": "python3"
  },
  "language_info": {
   "codemirror_mode": {
    "name": "ipython",
    "version": 3
   },
   "file_extension": ".py",
   "mimetype": "text/x-python",
   "name": "python",
   "nbconvert_exporter": "python",
   "pygments_lexer": "ipython3",
   "version": "3.12.3"
  }
 },
 "nbformat": 4,
 "nbformat_minor": 5
}
