{
 "cells": [
  {
   "cell_type": "markdown",
   "id": "9cb1c4b1-ff02-4573-ab84-9cbcbdf6d228",
   "metadata": {},
   "source": [
    "# Transformation module\n",
    "\n",
    "The Midgard **math.transformation** module provides functionality to carry out coordinate conversions"
   ]
  },
  {
   "cell_type": "markdown",
   "id": "9cb2446a-7f15-41ab-8254-7037ddc535f1",
   "metadata": {},
   "source": [
    "## Use transformation module\n",
    "\n",
    "An example is shown, how to use the `math.transformation` module, which includes several transformation methods. \n",
    "\n",
    "Following functions exists:\n",
    "\n",
    "| Function name        | Description |\n",
    "|:------------------ | :-----------|\n",
    "| delta_acr2trs_posvel | Convert position/velocity deltas from ACR to TRS |\n",
    "| delta_enu2trs | Convert position deltas from ENU to TRS |\n",
    "| delta_enu2trs_posvel | Convert position/velocity deltas from ENU to TRS |\n",
    "| delta_trs2acr_posvel | Convert position/velocity deltas from TRS to ACR |\n",
    "| delta_trs2enu | Convert position deltas from TRS to ENU |\n",
    "| delta_trs2enu_posvel | Convert position/velocity deltas from TRS to ENU |\n",
    "| kepler2trs | Compute orbit position and velocity vector in geocentric equatorial coordinate system based on Keplerian elements for elliptic orbits.|\n",
    "| llh2trs            | Convert geodetic latitude-, longitude-, height-coordinates to geocentric xyz-coordinates |\n",
    "| trs2kepler | Compute Keplerian elements for elliptic orbit based on orbit position and velocity vector given in ITRS. |\n",
    "| trs2llh            | Convert geocentric xyz-coordinates to geodetic latitude-, longitude-, height-coordinates |\n",
    "| sigma_trs2enu | Transformation of the covariance information of geocentric coordinates to topocentric coordinates |\n",
    "\n",
    "The conversion between terrestrial (geocentric) and geodectic (ellipsoidal) coordinates are related to a defined ellipsoid. Following ellipsoid definition can be used: \n",
    "- **DORIS** (used by Doppler Orbitography and Radiopositioning Integrated by Satellite system)\n",
    "- **GRS80** (used by ITRS)\n",
    "- **IERS2003** (based on IERS convention 2003)\n",
    "- **IERS2010** (based on IERS convention 2010)\n",
    "- **WGS84** (used by GPS)"
   ]
  },
  {
   "cell_type": "markdown",
   "id": "5ba07732-f11b-4ee7-93f4-fc33a9499400",
   "metadata": {},
   "source": [
    "### Use llh2trs and trs2llh function"
   ]
  },
  {
   "cell_type": "code",
   "execution_count": null,
   "id": "fa1c0dc2-ff7e-45d7-abe7-37ebf774b0ed",
   "metadata": {},
   "outputs": [],
   "source": [
    "# Import transformaton module\n",
    "from midgard.math import transformation\n",
    "\n",
    "# Import ellipsoid module\n",
    "from midgard.math import ellipsoid\n",
    "\n",
    "# Import Unit class\n",
    "from midgard.math.unit import Unit\n",
    "\n",
    "# Third party import\n",
    "import numpy as np\n",
    "\n",
    "# Define terrestrial (geocentric) TRS coordinates in meter\n",
    "trs = np.array([3771793.968, 140253.342, 5124304.349])\n",
    "\n",
    "# Convert terrestrial coordinates to geodetic (latitude, longitude, height) ones\n",
    "#\n",
    "# Note: As default GRS80 ellipsoid convention is used.\n",
    "llh_grs80 = transformation.trs2llh(trs)\n",
    "print(f\"LAT: {llh_grs80[0] * Unit.rad2deg:.11f} deg, \"\n",
    "      f\"LON: {llh_grs80[1] * Unit.rad2deg:.11f} deg, \"\n",
    "      f\"HEIGHT: {llh_grs80[2]:.3f} m\"\n",
    ")\n",
    "\n",
    "# Use WGS84 ellipsoid instead of GRS80 default ellipsoid\n",
    "llh_wgs84 = transformation.trs2llh(trs, ellipsoid=ellipsoid.WGS84)\n",
    "print(f\"LAT: {llh_wgs84[0] * Unit.rad2deg:.11f} deg, \"\n",
    "      f\"LON: {llh_wgs84[1] * Unit.rad2deg:.11f} deg, \"\n",
    "      f\"HEIGHT: {llh_wgs84[2]:.3f} m\"\n",
    ")"
   ]
  },
  {
   "cell_type": "code",
   "execution_count": null,
   "id": "fc13682e-5bda-4cb1-8952-0a8e68f0fcdd",
   "metadata": {},
   "outputs": [],
   "source": [
    "# Convert geodetic (latitude, longitude, height) coordinates to terrestrial ones\n",
    "#\n",
    "# Note: As default GRS80 ellipsoid convention is used.\n",
    "trs = transformation.llh2trs(llh_grs80)\n",
    "print(f\"X Y X in [m]: {trs[0]:.3f} {trs[1]:.3f} {trs[2]:.3f}\")"
   ]
  },
  {
   "cell_type": "markdown",
   "id": "31a7109a-dd1c-418c-81ac-28c430fb63e7",
   "metadata": {},
   "source": [
    "### Use kepler2trs and trs2kepler function"
   ]
  },
  {
   "cell_type": "code",
   "execution_count": null,
   "id": "0c239aac-ec26-415c-9f96-d64d5d8ab5d5",
   "metadata": {},
   "outputs": [],
   "source": [
    "# Import transformaton module\n",
    "from midgard.math import transformation\n",
    "\n",
    "# Import PosVel class\n",
    "from midgard.data.position import PosVel\n",
    "\n",
    "# Get PosVel instance by initializing with TRS coordinates given in meter and meter/second\n",
    "posvel = PosVel(\n",
    "            val=[15095082.616, -16985925.155, 18975783.780,\n",
    "                     1814.893,      -587.648,    -1968.334,\n",
    "            ], \n",
    "            system='trs',\n",
    "       )\n",
    "\n",
    "# Compute Keplerian elements for elliptic orbit based on orbit position and velocity vector given in ITRS\n",
    "kepler = transformation.trs2kepler(posvel)\n",
    "print(f\"a:     {kepler[0]} m\\n\"\n",
    "      f\"e:     {kepler[1]}\\n\"\n",
    "      f\"i:     {kepler[2]} rad\\n\"\n",
    "      f\"Omega: {kepler[3]} rad\\n\"\n",
    "      f\"omega: {kepler[4]} rad\\n\"\n",
    "      f\"E:     {kepler[5]} rad\\n\"\n",
    ")"
   ]
  },
  {
   "cell_type": "code",
   "execution_count": null,
   "id": "d6ba6feb-47b5-4912-b3dd-e431881ccf2a",
   "metadata": {},
   "outputs": [],
   "source": [
    "# Compute orbit position and velocity vector given in ITRS based on Keplerian elements\n",
    "trs = transformation.kepler2trs(posvel.kepler)\n",
    "print(f\"X Y Z in [m]: {trs[0]:.3f} {trs[1]:.3f} {trs[2]:.3f}\\n\"\n",
    "      f\"VX VY VZ in [m/s]: {trs[3]:.3f} {trs[4]:.3f} {trs[5]:.3f}\"\n",
    ")"
   ]
  }
 ],
 "metadata": {
  "kernelspec": {
   "display_name": "Python 3 (ipykernel)",
   "language": "python",
   "name": "python3"
  },
  "language_info": {
   "codemirror_mode": {
    "name": "ipython",
    "version": 3
   },
   "file_extension": ".py",
   "mimetype": "text/x-python",
   "name": "python",
   "nbconvert_exporter": "python",
   "pygments_lexer": "ipython3",
   "version": "3.12.3"
  }
 },
 "nbformat": 4,
 "nbformat_minor": 5
}
