{
 "cells": [
  {
   "cell_type": "markdown",
   "id": "77f610cf",
   "metadata": {
    "jupyter": {
     "source_hidden": true
    }
   },
   "source": [
    "# Interpolation module\n",
    "\n",
    "The Midgard **math.spatial_interpolation** module provides functionality to carry out one dimensional (1D) interpolation. (https://docs.scipy.org/doc/scipy/tutorial/interpolate/ND_unstructured.html#d-example)"
   ]
  },
  {
   "cell_type": "markdown",
   "id": "6bd6e552",
   "metadata": {},
   "source": [
    "## Use interpolation module\n",
    "\n",
    "An example is shown, how to use the `math.interpolation` module, which includes several interpolation method. The interpolation methods are based on **SciPy** functions, except for `lagrange` interpolation method."
   ]
  },
  {
   "cell_type": "code",
   "execution_count": null,
   "id": "f2a8f0e8",
   "metadata": {},
   "outputs": [],
   "source": [
    "# Import interpolation module\n",
    "from midgard.math import interpolation\n",
    "\n",
    "# Write list with available interpolators\n",
    "interpolation.interpolators()"
   ]
  },
  {
   "cell_type": "code",
   "execution_count": null,
   "id": "63dc5cf8-b1ab-4153-b612-f0340d61df72",
   "metadata": {},
   "outputs": [],
   "source": [
    "# Third party import\n",
    "import numpy as np\n",
    "\n",
    "# Import matplotlib module\n",
    "import matplotlib.pyplot as plt\n",
    "\n",
    "# Generate input data for interpolation, whereby x and y represent the original data and x_new the data points \n",
    "# for interpolation\n",
    "x = np.linspace(0, 10, 10)  \n",
    "y = np.sin(x)\n",
    "x_new = np.linspace(0, 10, 101)\n",
    "\n",
    "# Interpolation for given x_new data points and chosen kind of interpolation method\n",
    "y_new = interpolation.interpolate(x, y, x_new, kind=\"linear\")\n",
    "\n",
    "# Plot interpolation results\n",
    "plt.plot(x, y, label=\"data\", linestyle=\"None\", color=\"blue\", marker=\"o\")\n",
    "plt.plot(x_new, y_new, label=\"interpolated\", color=\"green\")\n",
    "plt.plot(x_new, np.sin(x_new), label=\"truth\", linewidth=3.0, color=\"black\", alpha=0.2)\n",
    "plt.title(f\"RMS of (truth - interpolated): {np.sqrt(np.nanmean(np.square(np.sin(x_new) - y_new))):.4f}\")\n",
    "plt.legend()\n",
    "plt.show()"
   ]
  },
  {
   "cell_type": "code",
   "execution_count": null,
   "id": "e6ce085a-578c-442c-a049-16683ed51e2f",
   "metadata": {},
   "outputs": [],
   "source": [
    "# Determine the execution time of interpolation method with %timeit\n",
    "#\n",
    "# Note: %timeit is a IPython function and can be used to determine the excecution time of statement or expression,\n",
    "#       whereby \n",
    "#          -n: number of loops\n",
    "#          -r: number of repeats\n",
    "#\n",
    "%timeit -n 10 -r 1 y_new = interpolation.interpolate(x, y, x_new, kind=\"linear\")"
   ]
  },
  {
   "cell_type": "code",
   "execution_count": null,
   "id": "fa1c0dc2-ff7e-45d7-abe7-37ebf774b0ed",
   "metadata": {},
   "outputs": [],
   "source": []
  }
 ],
 "metadata": {
  "kernelspec": {
   "display_name": "Python 3 (ipykernel)",
   "language": "python",
   "name": "python3"
  },
  "language_info": {
   "codemirror_mode": {
    "name": "ipython",
    "version": 3
   },
   "file_extension": ".py",
   "mimetype": "text/x-python",
   "name": "python",
   "nbconvert_exporter": "python",
   "pygments_lexer": "ipython3",
   "version": "3.12.2"
  }
 },
 "nbformat": 4,
 "nbformat_minor": 5
}
