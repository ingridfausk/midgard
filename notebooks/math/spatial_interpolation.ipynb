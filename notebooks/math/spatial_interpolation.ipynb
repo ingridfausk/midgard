{
 "cells": [
  {
   "cell_type": "markdown",
   "id": "77f610cf",
   "metadata": {},
   "source": [
    "# Spatial interpolation module\n",
    "\n",
    "The Midgard **math.spatial_interpolation** module provides functionality to carry out spatial interpolation."
   ]
  },
  {
   "cell_type": "markdown",
   "id": "6bd6e552",
   "metadata": {},
   "source": [
    "## Use spatial_interpolation module\n",
    "\n",
    "An example is shown, how to use the `math.spatial_interpolation` module, whereby for given position the velocity is determined based on a grid file. As velocity model is the NKG_RF17vel used, which is given as a GeoTIFF file."
   ]
  },
  {
   "cell_type": "code",
   "execution_count": null,
   "id": "9e202ddc-b587-4bbe-9092-b3f9fc961513",
   "metadata": {},
   "outputs": [],
   "source": [
    "# Import interpolation module\n",
    "from midgard.math import spatial_interpolation\n",
    "\n",
    "# Write list with available interpolators\n",
    "spatial_interpolation.interpolators()"
   ]
  },
  {
   "cell_type": "code",
   "execution_count": null,
   "id": "f76eda43-8f3c-4499-81c8-2301c2de249a",
   "metadata": {},
   "outputs": [],
   "source": [
    "# Third party import\n",
    "# NOTE: THE RASTERIO MODULE ARE NOT PART OF MIDGARD INSTALLATION. THEY\n",
    "#       HAVE TO BE INSTALLED. THE MODULE IS USED TO READ GEOTIFF FILES.\n",
    "import numpy as np\n",
    "import rasterio\n",
    "\n",
    "# Import Position and Unit class and spatial interpolation module\n",
    "from midgard.data.position import Position\n",
    "from midgard.math import spatial_interpolation\n",
    "\n",
    "# Read GeoTIFF file with velocity information for a grid with position in \n",
    "# longitude and latitude given in radian\n",
    "data = rasterio.open(\"../examples/math/eur_nkg_nkgrf17vel.tif\")\n",
    "\n",
    "# Get x and y coordinates of grid points (pixel center), whereby in this case\n",
    "# x=longitude and y=latitude\n",
    "cols, rows = np.meshgrid(np.arange(data.width), np.arange(data.height))\n",
    "grid_lon, grid_lat = rasterio.transform.xy(data.transform, rows, cols)\n",
    "grid_lon = np.array(grid_lon)\n",
    "grid_lat = np.array(grid_lat)\n",
    "\n",
    "# Get position in latitude/longitude for which velocity should be determined\n",
    "pos = Position(val=[2102928.189605, 721619.617278, 5958196.398820], system=\"trs\")\n",
    "lat = np.rad2deg(pos.llh.lat)\n",
    "lon = np.rad2deg(pos.llh.lon)\n",
    "\n",
    "# Read VX, VY and VZ grid bands from GEOTIFF\n",
    "grid_ve = data.read(1) \n",
    "grid_vn = data.read(2) \n",
    "grid_vu = data.read(3) \n",
    "\n",
    "# Interpolate in VE, VN and VU grids for given position\n",
    "kind = \"regular_grid_interpolator\"\n",
    "ve = spatial_interpolation.interpolate(grid_lon, grid_lat, grid_ve, lon, lat, kind=kind)  # Reference: -0.902 mm/yr\n",
    "vn = spatial_interpolation.interpolate(grid_lon, grid_lat, grid_vn, lon, lat, kind=kind)  # Reference: 0.325 mm/yr\n",
    "vu = spatial_interpolation.interpolate(grid_lon, grid_lat, grid_vu, lon, lat, kind=kind)  # Reference: 2.874 mm/yr\n",
    "\n",
    "#print(f\"Velocity: ({ve:.4f}, {vn:.4f}, {vu:.4f}) mm/yr for LAT {lat:.3f} deg, LON {lon:.3f} deg)\")\n",
    "print(ve, vn, vu)"
   ]
  },
  {
   "cell_type": "markdown",
   "id": "243ed069-ca08-4d83-9e73-d5853d799010",
   "metadata": {},
   "source": [
    "In the following is shown, how the grid data could be plotted."
   ]
  },
  {
   "cell_type": "code",
   "execution_count": null,
   "id": "21f1b558-b250-4c23-adcc-cd4871f636eb",
   "metadata": {},
   "outputs": [],
   "source": [
    "# Import matplotlib module\n",
    "import matplotlib.pyplot as plt\n",
    "\n",
    "# y-label definition of plots\n",
    "y_label_def = {\n",
    "    0: \"East velocity [mm/yr]\",\n",
    "    1: \"North velocity [mm/yr]\",\n",
    "    2: \"Up velocity [mm/yr]\",\n",
    "}\n",
    "\n",
    "# The function fits the colorbar to the subplot\n",
    "def colorbar(img, ylabel=None):\n",
    "    from mpl_toolkits.axes_grid1 import make_axes_locatable\n",
    "    last_axes = plt.gca()\n",
    "    ax = img.axes\n",
    "    fig = ax.figure\n",
    "    divider = make_axes_locatable(ax)\n",
    "    cax = divider.append_axes(\"right\", size=\"5%\", pad=0.1)\n",
    "    cbar = fig.colorbar(img, cax=cax)\n",
    "    if ylabel:\n",
    "        cbar.ax.set_ylabel(ylabel)\n",
    "    plt.sca(last_axes)\n",
    "    return cbar\n",
    "\n",
    "# Plot subplots\n",
    "fig, ax = plt.subplots(1, 3, figsize=(10,10))\n",
    "for col, data in enumerate([grid_ve, grid_vn, grid_vu]):\n",
    "     img = ax[col].imshow(data)\n",
    "     colorbar(img, y_label_def[col])\n",
    "fig.tight_layout()\n",
    "plt.show()"
   ]
  },
  {
   "cell_type": "code",
   "execution_count": null,
   "id": "71feb6d2-a6d8-4f5c-af48-d6c9d5ecf14a",
   "metadata": {},
   "outputs": [],
   "source": []
  }
 ],
 "metadata": {
  "kernelspec": {
   "display_name": "Python 3 (ipykernel)",
   "language": "python",
   "name": "python3"
  },
  "language_info": {
   "codemirror_mode": {
    "name": "ipython",
    "version": 3
   },
   "file_extension": ".py",
   "mimetype": "text/x-python",
   "name": "python",
   "nbconvert_exporter": "python",
   "pygments_lexer": "ipython3",
   "version": "3.12.2"
  }
 },
 "nbformat": 4,
 "nbformat_minor": 5
}
